{
  "nbformat": 4,
  "nbformat_minor": 0,
  "metadata": {
    "colab": {
      "provenance": []
    },
    "kernelspec": {
      "name": "python3",
      "display_name": "Python 3"
    }
  },
  "cells": [
    {
      "metadata": {
        "id": "sq8U3BtmhtRx"
      },
      "cell_type": "markdown",
      "source": [
        "\n",
        "# **Running Hive on Pyspark in Colab**\n",
        "\n",
        "Prepare PySpark Cluster"
      ]
    },
    {
      "metadata": {
        "id": "lh5NCoc8fsSO"
      },
      "cell_type": "code",
      "source": [
        "# install java\n",
        "!apt-get install openjdk-8-jdk-headless -qq > /dev/null\n",
        "\n",
        "# install spark (change the version number if needed)\n",
        "!wget -q https://archive.apache.org/dist/spark/spark-3.0.0/spark-3.0.0-bin-hadoop3.2.tgz\n",
        "\n",
        "# unzip the spark file to the current folder\n",
        "!tar xf spark-3.0.0-bin-hadoop3.2.tgz\n",
        "\n",
        "# set your spark folder to your system path environment.\n",
        "import os\n",
        "os.environ[\"JAVA_HOME\"] = \"/usr/lib/jvm/java-8-openjdk-amd64\"\n",
        "os.environ[\"SPARK_HOME\"] = \"/content/spark-3.0.0-bin-hadoop3.2\"\n",
        "\n",
        "\n",
        "# install findspark using pip\n",
        "!pip install -q findspark"
      ],
      "execution_count": 28,
      "outputs": []
    },
    {
      "metadata": {
        "id": "KwrqMk3HiMiE"
      },
      "cell_type": "markdown",
      "source": [
        "#Run a local spark session to test your installation:"
      ]
    },
    {
      "metadata": {
        "id": "9_Uz1NL4gHFx"
      },
      "cell_type": "code",
      "source": [
        "import findspark\n",
        "findspark.init()\n",
        "from pyspark.sql import SparkSession\n",
        "#spark = SparkSession.builder.master(\"local[*]\").getOrCreate()\n",
        "spark = SparkSession.builder.master(\"local[*]\").enableHiveSupport().getOrCreate()\n"
      ],
      "execution_count": 29,
      "outputs": []
    },
    {
      "cell_type": "code",
      "source": [
        "# Load Data to Spark Cluster\n",
        "dataset = spark.read.csv('BostonHousing.csv',inferSchema=True, header =True)\n",
        "\n",
        "# Save dataset to a new table in Hive\n",
        "dataset.write.mode(\"overwrite\").saveAsTable(\"bostonh.bos_housing\")"
      ],
      "metadata": {
        "id": "NwfIt5_IKRV2"
      },
      "execution_count": 30,
      "outputs": []
    },
    {
      "cell_type": "code",
      "source": [
        "# Retrieve and display the first 5 rows of the dataset\n",
        "dataset = spark.sql(\"SELECT * FROM bostonh.bos_housing LIMIT 5\")\n",
        "dataset.show()"
      ],
      "metadata": {
        "colab": {
          "base_uri": "https://localhost:8080/"
        },
        "id": "mFNvEAhUKVYs",
        "outputId": "41fcb8ff-3d3b-4812-d043-91cde3cd7458"
      },
      "execution_count": 31,
      "outputs": [
        {
          "output_type": "stream",
          "name": "stdout",
          "text": [
            "+-------+----+-----+----+-----+-----+----+------+---+---+-------+------+-----+----+\n",
            "|   crim|  zn|indus|chas|  nox|   rm| age|   dis|rad|tax|ptratio|     b|lstat|medv|\n",
            "+-------+----+-----+----+-----+-----+----+------+---+---+-------+------+-----+----+\n",
            "|0.00632|18.0| 2.31|   0|0.538|6.575|65.2|  4.09|  1|296|   15.3| 396.9| 4.98|24.0|\n",
            "|0.02731| 0.0| 7.07|   0|0.469|6.421|78.9|4.9671|  2|242|   17.8| 396.9| 9.14|21.6|\n",
            "|0.02729| 0.0| 7.07|   0|0.469|7.185|61.1|4.9671|  2|242|   17.8|392.83| 4.03|34.7|\n",
            "|0.03237| 0.0| 2.18|   0|0.458|6.998|45.8|6.0622|  3|222|   18.7|394.63| 2.94|33.4|\n",
            "|0.06905| 0.0| 2.18|   0|0.458|7.147|54.2|6.0622|  3|222|   18.7| 396.9| 5.33|36.2|\n",
            "+-------+----+-----+----+-----+-----+----+------+---+---+-------+------+-----+----+\n",
            "\n"
          ]
        }
      ]
    },
    {
      "cell_type": "code",
      "source": [
        "# Find and report the total number of records in the dataset\n",
        "total_records = spark.sql(\"SELECT COUNT(*) AS total_records FROM bostonh.bos_housing\").collect()[0][\"total_records\"]\n",
        "print(\"Total number of records in the dataset:\", total_records)"
      ],
      "metadata": {
        "colab": {
          "base_uri": "https://localhost:8080/"
        },
        "id": "D8vpKE69Kb3d",
        "outputId": "2f4a4b18-8c84-4e0c-a970-462250c996c6"
      },
      "execution_count": 32,
      "outputs": [
        {
          "output_type": "stream",
          "name": "stdout",
          "text": [
            "Total number of records in the dataset: 506\n"
          ]
        }
      ]
    },
    {
      "cell_type": "code",
      "source": [
        "# Calculate and display basic statistics for the \"medv\" column\n",
        "medv_stats = spark.sql(\"SELECT mean(medv) AS Mean, stddev(medv) AS StdDev, min(medv) AS Min, max(medv) AS Max FROM bostonh.bos_housing\")\n",
        "medv_stats.show()"
      ],
      "metadata": {
        "colab": {
          "base_uri": "https://localhost:8080/"
        },
        "id": "CkeY5mJlKek9",
        "outputId": "08eb41ea-d4cc-4e7a-a036-5bb621423449"
      },
      "execution_count": 33,
      "outputs": [
        {
          "output_type": "stream",
          "name": "stdout",
          "text": [
            "+------------------+-----------------+---+----+\n",
            "|              Mean|           StdDev|Min| Max|\n",
            "+------------------+-----------------+---+----+\n",
            "|22.532806324110698|9.197104087379815|5.0|50.0|\n",
            "+------------------+-----------------+---+----+\n",
            "\n"
          ]
        }
      ]
    },
    {
      "cell_type": "code",
      "source": [
        "# Calculate and display the mean \"rm\"\n",
        "mean_rm = spark.sql(\"SELECT mean(rm) AS Mean_rm FROM bostonh.bos_housing\").collect()[0][\"Mean_rm\"]\n",
        "print(\"Mean number of rooms per dwelling (rm):\", mean_rm)"
      ],
      "metadata": {
        "colab": {
          "base_uri": "https://localhost:8080/"
        },
        "id": "jwcd5g6XK7qw",
        "outputId": "46fc9df3-df1d-4f13-8282-ed4e90e794a1"
      },
      "execution_count": 34,
      "outputs": [
        {
          "output_type": "stream",
          "name": "stdout",
          "text": [
            "Mean number of rooms per dwelling (rm): 6.284634387351787\n"
          ]
        }
      ]
    },
    {
      "cell_type": "code",
      "source": [
        "# Identify the property with the highest crime rate (\"crim\")\n",
        "highest_crim_property = spark.sql(\"SELECT * FROM bostonh.bos_housing ORDER BY crim DESC LIMIT 1\")\n",
        "print(\"Property with the highest crime rate:\")\n",
        "highest_crim_property.show()"
      ],
      "metadata": {
        "colab": {
          "base_uri": "https://localhost:8080/"
        },
        "id": "156B5jJTLKm5",
        "outputId": "f94f479e-3a80-4b6b-f2b7-d2e66369a350"
      },
      "execution_count": 35,
      "outputs": [
        {
          "output_type": "stream",
          "name": "stdout",
          "text": [
            "Property with the highest crime rate:\n",
            "+-------+---+-----+----+-----+-----+----+------+---+---+-------+-----+-----+----+\n",
            "|   crim| zn|indus|chas|  nox|   rm| age|   dis|rad|tax|ptratio|    b|lstat|medv|\n",
            "+-------+---+-----+----+-----+-----+----+------+---+---+-------+-----+-----+----+\n",
            "|88.9762|0.0| 18.1|   0|0.671|6.968|91.9|1.4165| 24|666|   20.2|396.9|17.21|10.4|\n",
            "+-------+---+-----+----+-----+-----+----+------+---+---+-------+-----+-----+----+\n",
            "\n"
          ]
        }
      ]
    },
    {
      "cell_type": "code",
      "source": [
        "# Find and report the property with the lowest median home value (\"medv\")\n",
        "lowest_medv_property = spark.sql(\"SELECT * FROM bostonh.bos_housing ORDER BY medv ASC LIMIT 1\")\n",
        "print(\"Property with the lowest median home value:\")\n",
        "lowest_medv_property.show()"
      ],
      "metadata": {
        "colab": {
          "base_uri": "https://localhost:8080/"
        },
        "id": "NvY_VkcdLMGc",
        "outputId": "61e25ae6-abf1-4028-caf1-cbf68658cc9f"
      },
      "execution_count": 36,
      "outputs": [
        {
          "output_type": "stream",
          "name": "stdout",
          "text": [
            "Property with the lowest median home value:\n",
            "+-------+---+-----+----+-----+-----+-----+------+---+---+-------+-----+-----+----+\n",
            "|   crim| zn|indus|chas|  nox|   rm|  age|   dis|rad|tax|ptratio|    b|lstat|medv|\n",
            "+-------+---+-----+----+-----+-----+-----+------+---+---+-------+-----+-----+----+\n",
            "|38.3518|0.0| 18.1|   0|0.693|5.453|100.0|1.4896| 24|666|   20.2|396.9|30.59| 5.0|\n",
            "+-------+---+-----+----+-----+-----+-----+------+---+---+-------+-----+-----+----+\n",
            "\n"
          ]
        }
      ]
    },
    {
      "cell_type": "code",
      "source": [
        "import matplotlib.pyplot as plt\n",
        "\n",
        "# Create a histogram showing the distribution of the \"age\" column\n",
        "age_data = spark.sql(\"SELECT age FROM bostonh.bos_housing\").toPandas()\n",
        "plt.hist(age_data['age'], bins=30, edgecolor='black')\n",
        "plt.title('Distribution of Age')\n",
        "plt.xlabel('Age')\n",
        "plt.ylabel('Frequency')\n",
        "plt.show()"
      ],
      "metadata": {
        "colab": {
          "base_uri": "https://localhost:8080/",
          "height": 472
        },
        "id": "bHkbpKHdLfRb",
        "outputId": "17c278b4-0eb8-4a21-eee2-c9951905daca"
      },
      "execution_count": 37,
      "outputs": [
        {
          "output_type": "display_data",
          "data": {
            "text/plain": [
              "<Figure size 640x480 with 1 Axes>"
            ],
            "image/png": "[encoded data removed]"
          },
          "metadata": {}
        }
      ]
    },
    {
      "cell_type": "code",
      "source": [
        "# Calculate and report the percentage of properties with a \"chas\" value of 1\n",
        "chas_count = spark.sql(\"SELECT COUNT(*) AS count FROM bostonh.bos_housing WHERE chas = 1\").collect()[0][\"count\"]\n",
        "percentage_chas = (chas_count / total_records) * 100\n",
        "print(\"Percentage of properties with a 'chas' value of 1:\", percentage_chas)"
      ],
      "metadata": {
        "colab": {
          "base_uri": "https://localhost:8080/"
        },
        "id": "bjdAkAjULfuo",
        "outputId": "6271db77-7ebe-4e8d-f687-e7c7ed1de198"
      },
      "execution_count": 38,
      "outputs": [
        {
          "output_type": "stream",
          "name": "stdout",
          "text": [
            "Percentage of properties with a 'chas' value of 1: 6.91699604743083\n"
          ]
        }
      ]
    },
    {
      "cell_type": "code",
      "source": [
        "# Calculate the correlation coefficient between \"rm\" and \"medv\"\n",
        "rm_medv_corr = spark.sql(\"SELECT corr(rm, medv) AS rm_medv_corr FROM bostonh.bos_housing\").collect()[0][\"rm_medv_corr\"]\n",
        "print(\"Correlation between 'rm' and 'medv':\", rm_medv_corr)"
      ],
      "metadata": {
        "colab": {
          "base_uri": "https://localhost:8080/"
        },
        "id": "EgHcior1L5Hh",
        "outputId": "ed3cdeca-4eb6-49e0-b63a-e1b85d86a3b1"
      },
      "execution_count": 39,
      "outputs": [
        {
          "output_type": "stream",
          "name": "stdout",
          "text": [
            "Correlation between 'rm' and 'medv': 0.6953599470715401\n"
          ]
        }
      ]
    },
    {
      "cell_type": "code",
      "source": [
        "# Calculate the correlation coefficient between \"ptratio\" and \"nox\"\n",
        "ptratio_nox_corr = spark.sql(\"SELECT corr(ptratio, nox) AS ptratio_nox_corr FROM bostonh.bos_housing\").collect()[0][\"ptratio_nox_corr\"]\n",
        "print(\"Correlation between 'ptratio' and 'nox':\", ptratio_nox_corr)"
      ],
      "metadata": {
        "colab": {
          "base_uri": "https://localhost:8080/"
        },
        "id": "phHZzE4iL7eE",
        "outputId": "37dc5f86-64b9-4965-cd10-9d448bfbade1"
      },
      "execution_count": 40,
      "outputs": [
        {
          "output_type": "stream",
          "name": "stdout",
          "text": [
            "Correlation between 'ptratio' and 'nox': 0.18893267711276893\n"
          ]
        }
      ]
    },
    {
      "cell_type": "code",
      "source": [
        "# Write a HiveQL query to identify and display the top 5 neighborhoods with the highest median home values (\"medv\")\n",
        "top5_neighborhoods = spark.sql(\"SELECT zn AS Neighborhood, medv FROM bostonh.bos_housing ORDER BY medv DESC LIMIT 5\")\n",
        "print(\"Top 5 neighborhoods with the highest median home values:\")\n",
        "top5_neighborhoods.show()"
      ],
      "metadata": {
        "colab": {
          "base_uri": "https://localhost:8080/"
        },
        "id": "9fky3Fp9MPg1",
        "outputId": "b3f492fc-3ab2-4742-a228-e4094633c4ec"
      },
      "execution_count": 41,
      "outputs": [
        {
          "output_type": "stream",
          "name": "stdout",
          "text": [
            "Top 5 neighborhoods with the highest median home values:\n",
            "+------------+----+\n",
            "|Neighborhood|medv|\n",
            "+------------+----+\n",
            "|         0.0|50.0|\n",
            "|        80.0|50.0|\n",
            "|         0.0|50.0|\n",
            "|         0.0|50.0|\n",
            "|         0.0|50.0|\n",
            "+------------+----+\n",
            "\n"
          ]
        }
      ]
    },
    {
      "cell_type": "code",
      "source": [
        "# Calculate and report the average property age for neighborhoods with a \"chas\" value of 1 compared to those with \"chas\" value of 0\n",
        "avg_age_chas1 = spark.sql(\"SELECT avg(age) AS Avg_Age FROM bostonh.bos_housing WHERE chas = 1\").collect()[0][\"Avg_Age\"]\n",
        "avg_age_chas0 = spark.sql(\"SELECT avg(age) AS Avg_Age FROM bostonh.bos_housing WHERE chas = 0\").collect()[0][\"Avg_Age\"]\n",
        "print(\"Average property age for neighborhoods with 'chas' value of 1:\", avg_age_chas1)\n",
        "print(\"Average property age for neighborhoods with 'chas' value of 0:\", avg_age_chas0)"
      ],
      "metadata": {
        "colab": {
          "base_uri": "https://localhost:8080/"
        },
        "id": "gO0z_6gbMRum",
        "outputId": "5c0f3459-70cd-4c6a-ea17-d3faaea0aa3a"
      },
      "execution_count": 42,
      "outputs": [
        {
          "output_type": "stream",
          "name": "stdout",
          "text": [
            "Average property age for neighborhoods with 'chas' value of 1: 77.50000000000001\n",
            "Average property age for neighborhoods with 'chas' value of 0: 67.91167728237794\n"
          ]
        }
      ]
    },
    {
      "cell_type": "code",
      "source": [
        "# Create a Hive view named \"property_age_view\" that includes the \"age\" and \"medv\" columns\n",
        "spark.sql(\"CREATE OR REPLACE VIEW property_age_view AS SELECT age, medv FROM bostonh.bos_housing\")"
      ],
      "metadata": {
        "colab": {
          "base_uri": "https://localhost:8080/"
        },
        "id": "VNwC1vgFMaRI",
        "outputId": "18ee8045-863f-45fe-b478-df18980d44f5"
      },
      "execution_count": 43,
      "outputs": [
        {
          "output_type": "execute_result",
          "data": {
            "text/plain": [
              "DataFrame[]"
            ]
          },
          "metadata": {},
          "execution_count": 43
        }
      ]
    },
    {
      "cell_type": "code",
      "source": [
        "# Load the view into a dataframe\n",
        "df = spark.sql(\"SELECT * FROM property_age_view\").toPandas()\n",
        "\n",
        "# Plot a scatter plot of property age against median home value\n",
        "plt.scatter(df['age'], df['medv'])\n",
        "plt.title('Property Age vs Median Home Value')\n",
        "plt.xlabel('Property Age')\n",
        "plt.ylabel('Median Home Value')\n",
        "plt.show()"
      ],
      "metadata": {
        "colab": {
          "base_uri": "https://localhost:8080/",
          "height": 472
        },
        "id": "hZyBUjGRMsgm",
        "outputId": "5c324619-07db-4341-f276-ff9ff927482c"
      },
      "execution_count": 44,
      "outputs": [
        {
          "output_type": "display_data",
          "data": {
            "text/plain": [
              "<Figure size 640x480 with 1 Axes>"
            ],
            "image/png": "[encoded data removed]"
          },
          "metadata": {}
        }
      ]
    },
    {
      "cell_type": "code",
      "source": [
        "# Write a query to identify and report properties with a \"crim\" value greater than 10\n",
        "outliers = spark.sql(\"SELECT * FROM bostonh.bos_housing WHERE crim > 10\")\n",
        "print(\"Properties with 'crim' value greater than 10:\")\n",
        "outliers.show()\n"
      ],
      "metadata": {
        "colab": {
          "base_uri": "https://localhost:8080/"
        },
        "id": "CcthzVtCMylv",
        "outputId": "07ff3555-68e0-4328-ac78-6cf2fa866ab1"
      },
      "execution_count": 45,
      "outputs": [
        {
          "output_type": "stream",
          "name": "stdout",
          "text": [
            "Properties with 'crim' value greater than 10:\n",
            "+-------+---+-----+----+-----+-----+-----+------+---+---+-------+------+-----+----+\n",
            "|   crim| zn|indus|chas|  nox|   rm|  age|   dis|rad|tax|ptratio|     b|lstat|medv|\n",
            "+-------+---+-----+----+-----+-----+-----+------+---+---+-------+------+-----+----+\n",
            "|13.5222|0.0| 18.1|   0|0.631|3.863|100.0|1.5106| 24|666|   20.2|131.42|13.33|23.1|\n",
            "|11.1081|0.0| 18.1|   0|0.668|4.906|100.0|1.1742| 24|666|   20.2| 396.9|34.77|13.8|\n",
            "|18.4982|0.0| 18.1|   0|0.668|4.138|100.0| 1.137| 24|666|   20.2| 396.9|37.97|13.8|\n",
            "|19.6091|0.0| 18.1|   0|0.671|7.313| 97.9|1.3163| 24|666|   20.2| 396.9|13.44|15.0|\n",
            "| 15.288|0.0| 18.1|   0|0.671|6.649| 93.3|1.3449| 24|666|   20.2|363.02|23.24|13.9|\n",
            "|23.6482|0.0| 18.1|   0|0.671| 6.38| 96.2|1.3861| 24|666|   20.2| 396.9|23.69|13.1|\n",
            "|17.8667|0.0| 18.1|   0|0.671|6.223|100.0|1.3861| 24|666|   20.2|393.74|21.78|10.2|\n",
            "|88.9762|0.0| 18.1|   0|0.671|6.968| 91.9|1.4165| 24|666|   20.2| 396.9|17.21|10.4|\n",
            "|15.8744|0.0| 18.1|   0|0.671|6.545| 99.1|1.5192| 24|666|   20.2| 396.9|21.08|10.9|\n",
            "|20.0849|0.0| 18.1|   0|  0.7|4.368| 91.2|1.4395| 24|666|   20.2|285.83|30.63| 8.8|\n",
            "|16.8118|0.0| 18.1|   0|  0.7|5.277| 98.1|1.4261| 24|666|   20.2| 396.9|30.81| 7.2|\n",
            "|24.3938|0.0| 18.1|   0|  0.7|4.652|100.0|1.4672| 24|666|   20.2| 396.9|28.28|10.5|\n",
            "|22.5971|0.0| 18.1|   0|  0.7|  5.0| 89.5|1.5184| 24|666|   20.2| 396.9|31.99| 7.4|\n",
            "|14.3337|0.0| 18.1|   0|  0.7| 4.88|100.0|1.5895| 24|666|   20.2|372.92|30.62|10.2|\n",
            "|11.5779|0.0| 18.1|   0|  0.7|5.036| 97.0|  1.77| 24|666|   20.2| 396.9|25.68| 9.7|\n",
            "|13.3598|0.0| 18.1|   0|0.693|5.887| 94.7|1.7821| 24|666|   20.2| 396.9|16.35|12.7|\n",
            "|38.3518|0.0| 18.1|   0|0.693|5.453|100.0|1.4896| 24|666|   20.2| 396.9|30.59| 5.0|\n",
            "|25.0461|0.0| 18.1|   0|0.693|5.987|100.0|1.5888| 24|666|   20.2| 396.9|26.77| 5.6|\n",
            "|14.2362|0.0| 18.1|   0|0.693|6.343|100.0|1.5741| 24|666|   20.2| 396.9|20.32| 7.2|\n",
            "|24.8017|0.0| 18.1|   0|0.693|5.349| 96.0|1.7028| 24|666|   20.2| 396.9|19.77| 8.3|\n",
            "+-------+---+-----+----+-----+-----+-----+------+---+---+-------+------+-----+----+\n",
            "only showing top 20 rows\n",
            "\n"
          ]
        }
      ]
    },
    {
      "cell_type": "code",
      "source": [
        "# As for the significance of detecting outliers in data analysis, outliers can greatly affect the results of the data analysis and statistical modeling.\n",
        "# They can cause serious problems in statistical analyses. Outliers can skew and mislead the training process of machine learning algorithms resulting in longer training times, less accurate models,\n",
        "# and ultimately poorer results. They can also indicate data points that belong to different systems or that result from measurement errors. Therefore, it’s important to detect and properly handle outliers\n",
        "# in the dataset. However, not all outliers are bad and their detection often requires a good understanding of the data. In some cases, outliers can be an error, but in others, they can be useful to understand\n",
        "# and explain phenomena that are not “standard”. So, it’s always important to investigate the nature of the outliers before deciding how to handle them."
      ],
      "metadata": {
        "id": "X8jgHeQXNNhN"
      },
      "execution_count": 46,
      "outputs": []
    },
    {
      "cell_type": "code",
      "source": [
        "# Hypothesis:\n",
        "\n",
        "# Null Hypothesis (H0): There is no relationship between the average number of rooms and the median home value.\n",
        "# Alternative Hypothesis (H1): There is a significant relationship between the average number of rooms and the median home value.\n",
        "\n",
        "# If the correlation coefficient is significantly different from 0, we reject the null hypothesis and conclude that there is a significant relationship between the average number of rooms and the median home value."
      ],
      "metadata": {
        "id": "iF9aApviO93p"
      },
      "execution_count": 47,
      "outputs": []
    },
    {
      "cell_type": "code",
      "source": [
        "# Calculate the correlation coefficient between \"rm\" and \"medv\"\n",
        "rm_medv_corr = spark.sql(\"SELECT corr(rm, medv) AS rm_medv_corr FROM bostonh.bos_housing\").collect()[0][\"rm_medv_corr\"]\n",
        "print(\"Correlation between 'rm' and 'medv':\", rm_medv_corr)"
      ],
      "metadata": {
        "colab": {
          "base_uri": "https://localhost:8080/"
        },
        "id": "1VT9Dx5xPNNa",
        "outputId": "ec3a2951-722d-4b5b-b477-f026da9363a9"
      },
      "execution_count": 48,
      "outputs": [
        {
          "output_type": "stream",
          "name": "stdout",
          "text": [
            "Correlation between 'rm' and 'medv': 0.6953599470715401\n"
          ]
        }
      ]
    }
  ]
}